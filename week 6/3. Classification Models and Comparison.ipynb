{
 "cells": [
  {
   "cell_type": "markdown",
   "metadata": {},
   "source": [
    "______________________________________________________________________________________________________________________________________\n",
    "3. Machine Learning Models\n",
    "Classification Task:\n",
    "   - Apply at least three different classification algorithms (e.g., Logistic Regression, Decision Trees, Random Forest) to the `weather_classification_data.csv` dataset with the reason why you choose those models.\n",
    "   - Train the models on the training set and evaluate their performance on the test set using appropriate evaluation metrics.\n",
    "______________________________________________________________________________________________________________________________________\n"
   ]
  },
  {
   "cell_type": "code",
   "execution_count": 1,
   "metadata": {},
   "outputs": [],
   "source": [
    "import pandas as pd\n",
    "from sklearn.preprocessing import LabelEncoder\n",
    "from sklearn.preprocessing import MinMaxScaler\n",
    "from sklearn.preprocessing import StandardScaler\n",
    "from sklearn.model_selection import train_test_split\n",
    "\n",
    "\n",
    "\n",
    "# Load the dataset\n",
    "weather_df=pd.read_csv(weather_file_path)\n",
    "\n",
    "# Display the first few rows of the dataset\n",
    "print(\"--------Weather Classfication data--------\")\n",
    "print(weather_df.head())"
   ]
  },
  {
   "cell_type": "code",
   "execution_count": 2,
   "metadata": {},
   "outputs": [],
   "source": [
    "\n",
    "def Drop_Missing_value(weather_df):\n",
    "    weather_df = weather_df.dropna()\n",
    "    return  weather_df\n",
    "\n",
    "weather_df = Drop_Missing_value( weather_df)\n",
    "weather_df=pd.get_dummies(weather_df,columns=['Cloud Cover'])\n",
    "weather_df=pd.get_dummies(weather_df,columns=['Season'])\n",
    "weather_df=pd.get_dummies(weather_df,columns=['Location'])\n",
    "# weather_df=pd.get_dummies(weather_df,columns=['Weather Type'])\n",
    "print(weather_df.head())\n",
    "num_rows_weather = weather_df.shape[0]\n",
    "print(f\"Number of rows in weather_df: {num_rows_weather}\")"
   ]
  },
  {
   "cell_type": "code",
   "execution_count": 3,
   "metadata": {},
   "outputs": [],
   "source": [
    "X=weather_df.drop('Weather Type' ,axis=1)\n",
    "Y=weather_df['Weather Type']\n",
    "Xtrain, Xtest,Ytrain,Ytest = train_test_split(X,Y, test_size=0.2)\n",
    "\n",
    "print(\"------Weather Classification data---------\\n\")\n",
    "num_rows_train_weather = Xtrain.shape[0]\n",
    "print(f\"Number of rows of Trainig of Weather data: {num_rows_train_weather}\")  \n",
    "num_rows_test_weather = Xtest.shape[0]\n",
    "print(f\"Number of rows of Testing of Weather data: {num_rows_test_weather}\") "
   ]
  },
  {
   "cell_type": "markdown",
   "metadata": {},
   "source": [
    "______________________________________________________________________________________________________________________________________\n",
    "Logistic Regression Model                 \n",
    "______________________________________________________________________________________________________________________________________"
   ]
  },
  {
   "cell_type": "code",
   "execution_count": 4,
   "metadata": {},
   "outputs": [],
   "source": [
    "from sklearn.linear_model import LogisticRegression\n",
    "from sklearn.metrics import classification_report, accuracy_score, roc_auc_score\n",
    "from sklearn.preprocessing import StandardScaler\n",
    "from sklearn.metrics import precision_score, recall_score, f1_score\n",
    "\n",
    "scaler = StandardScaler()\n",
    "X_train_scaled = scaler.fit_transform(Xtrain)\n",
    "X_test_scaled = scaler.transform(Xtest)\n",
    "# Train Logistic Regression\n",
    "lr_model = LogisticRegression(max_iter=20000)\n",
    "lr_model.fit(X_train_scaled, Ytrain)\n",
    "\n",
    "# Predict on test set\n",
    "y_pred_lr = lr_model.predict(X_test_scaled)\n",
    "\n",
    "# Evaluate Logistic Regression\n",
    "print(\"Logistic Regression\")\n",
    "print(\"Accuracy:\", accuracy_score(Ytest, y_pred_lr))\n",
    "print(\"Classification Report:\\n\", classification_report(Ytest, y_pred_lr))\n",
    "\n",
    "\n",
    "\n",
    "accuracy_log_reg = accuracy_score(Ytest, y_pred_lr)\n",
    "precision_log_reg = precision_score(Ytest, y_pred_lr, average='weighted')\n",
    "recall_log_reg = recall_score(Ytest, y_pred_lr, average='weighted')\n",
    "f1_log_reg = f1_score(Ytest, y_pred_lr, average='weighted')\n",
    "\n"
   ]
  },
  {
   "cell_type": "markdown",
   "metadata": {},
   "source": [
    "______________________________________________________________________________________________________________________________________\n",
    "Decision Tree          \n",
    "______________________________________________________________________________________________________________________________________"
   ]
  },
  {
   "cell_type": "code",
   "execution_count": 5,
   "metadata": {},
   "outputs": [],
   "source": [
    "from sklearn.tree import DecisionTreeClassifier\n",
    "from sklearn.pipeline import Pipeline\n",
    "from sklearn.compose import ColumnTransformer\n",
    "# Create a pipeline for decision tree\n",
    "dt_pipeline = Pipeline(steps=[('classifier', DecisionTreeClassifier(random_state=42))])\n",
    "\n",
    "# Train the model\n",
    "dt_pipeline.fit(Xtrain, Ytrain)\n",
    "\n",
    "# Make predictions\n",
    "y_pred_dt = dt_pipeline.predict(Xtest)\n",
    "\n",
    "# Evaluate the model\n",
    "accuracy_dt = accuracy_score(Ytest, y_pred_dt)\n",
    "print(f\"Decision Tree Accuracy: {accuracy_dt}\")\n",
    "print(classification_report(Ytest, y_pred_dt))\n",
    "\n",
    "\n",
    "accuracy_dt = accuracy_score(Ytest, y_pred_dt)\n",
    "precision_dt = precision_score(Ytest, y_pred_dt, average='weighted')\n",
    "recall_dt = recall_score(Ytest, y_pred_dt, average='weighted')\n",
    "f1_dt = f1_score(Ytest, y_pred_dt, average='weighted')\n"
   ]
  },
  {
   "cell_type": "markdown",
   "metadata": {},
   "source": [
    "______________________________________________________________________________________________________________________________________\n",
    "Random Forest                \n",
    "______________________________________________________________________________________________________________________________________"
   ]
  },
  {
   "cell_type": "code",
   "execution_count": 6,
   "metadata": {},
   "outputs": [],
   "source": [
    "from sklearn.ensemble import RandomForestClassifier\n",
    "\n",
    "# Create a pipeline for random forest\n",
    "rf_pipeline = Pipeline(steps=[\n",
    "                              ('classifier', RandomForestClassifier(random_state=42))])\n",
    "\n",
    "# Train the model\n",
    "rf_pipeline.fit(Xtrain, Ytrain)\n",
    "\n",
    "# Make predictions\n",
    "y_pred_rf = rf_pipeline.predict(Xtest)\n",
    "\n",
    "# Evaluate the model\n",
    "accuracy_rf = accuracy_score(Ytest, y_pred_rf)\n",
    "print(f\"Random Forest Accuracy: {accuracy_rf}\")\n",
    "print(classification_report(Ytest, y_pred_rf))\n",
    "\n",
    "\n",
    "accuracy_rf = accuracy_score(Ytest, y_pred_rf)\n",
    "precision_rf = precision_score(Ytest, y_pred_rf, average='weighted')\n",
    "recall_rf = recall_score(Ytest, y_pred_rf, average='weighted')\n",
    "f1_rf = f1_score(Ytest, y_pred_rf, average='weighted')"
   ]
  },
  {
   "cell_type": "markdown",
   "metadata": {},
   "source": [
    "______________________________________________________________________________________________________________________________________\n",
    "4. Model Evaluation and Comparison\n",
    "  1 Model Performance Comparison:\n",
    "   - Compare the performance of different models for classification tasks.\n",
    "   - Create tables or visualizations to summarize the performance metrics of each model.\n",
    "   - Discuss which model performed the best for each task and provide possible reasons for its superior performance.\n",
    "______________________________________________________________________________________________________________________________________"
   ]
  },
  {
   "cell_type": "code",
   "execution_count": 7,
   "metadata": {},
   "outputs": [],
   "source": [
    "summary_df = pd.DataFrame({\n",
    "    'Model': ['Logistic Regression', 'Decision Tree', 'Random Forest'],\n",
    "    'Accuracy': [accuracy_log_reg, accuracy_dt, accuracy_rf],\n",
    "    'Precision': [precision_log_reg, precision_dt, precision_rf],\n",
    "    'Recall': [recall_log_reg, recall_dt, recall_rf],\n",
    "    'F1-Score': [f1_log_reg, f1_dt, f1_rf]\n",
    "})\n",
    "\n",
    "print(summary_df)"
   ]
  },
  {
   "cell_type": "code",
   "execution_count": 8,
   "metadata": {},
   "outputs": [],
   "source": [
    "import matplotlib.pyplot as plt\n",
    "\n",
    "# Plot accuracy\n",
    "plt.figure(figsize=(10, 6))\n",
    "plt.bar(summary_df['Model'], summary_df['Accuracy'], color=['blue', 'green', 'red'])\n",
    "plt.xlabel('Model')\n",
    "plt.ylabel('Accuracy')\n",
    "plt.title('Model Accuracy Comparison')\n",
    "plt.ylim([0, 1])\n",
    "for i in range(len(summary_df)):\n",
    "    plt.text(i, summary_df['Accuracy'][i] + 0.01, f\"{summary_df['Accuracy'][i]:.2f}\", ha='center')\n",
    "plt.show()\n"
   ]
  }
 ],
 "metadata": {
  "kernelspec": {
   "display_name": "Python 3",
   "language": "python",
   "name": "python3"
  },
  "language_info": {
   "codemirror_mode": {
    "name": "ipython",
    "version": 3
   },
   "file_extension": ".py",
   "mimetype": "text/x-python",
   "name": "python",
   "nbconvert_exporter": "python",
   "pygments_lexer": "ipython3",
   "version": "3.11.4"
  }
 },
 "nbformat": 4,
 "nbformat_minor": 2
}
