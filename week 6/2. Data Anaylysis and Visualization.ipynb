{
 "cells": [
  {
   "cell_type": "markdown",
   "metadata": {},
   "source": [
    "2. Data Analysis and Visualization\n",
    "\n",
    "1 Exploratory Data Analysis (EDA):\n",
    "   - Perform EDA on both datasets to identify key patterns, correlations, and insights.\n",
    "   - Generate summary statistics (mean, median, standard deviation, etc.) for the datasets.\n",
    "   - Identify any patterns, correlations, or anomalies in the data.\n"
   ]
  },
  {
   "cell_type": "code",
   "execution_count": 1,
   "metadata": {},
   "outputs": [],
   "source": [
    "import pandas as pd\n",
    "import pandas as pd\n",
    "import matplotlib.pyplot as plt\n",
    "import seaborn as sns\n",
    "from sklearn.model_selection import train_test_split\n",
    "\n",
    "# Load the dataset\n",
    "used_cars_df = pd.read_csv(cars_file_path)\n",
    "weather_df=pd.read_csv(weather_file_path)\n",
    "\n",
    "# Display the first few rows of the dataset\n",
    "print(\"--------------Used Cars Data--------------\")\n",
    "print(used_cars_df.head())\n",
    "\n",
    "print(\"--------Weather Classfication data--------\")\n",
    "print(weather_df.head())\n",
    "\n",
    "used_cars_df['assembly'].fillna('Local', inplace=True)\n",
    "used_cars_df=used_cars_df.dropna()\n",
    "weather_df=weather_df.dropna()\n",
    "\n",
    "num_rows_car = used_cars_df.shape[0]\n",
    "print(f\"Number of rows in used_cars_df: {num_rows_car}\")\n",
    "\n",
    "num_rows_weather = weather_df.shape[0]\n",
    "print(f\"Number of rows in weather_df: {num_rows_weather}\")\n",
    "\n"
   ]
  },
  {
   "cell_type": "code",
   "execution_count": 2,
   "metadata": {},
   "outputs": [],
   "source": [
    "# Summary statistics for used cars data\n",
    "print(\"\\nSummary statistics for used cars data:\")\n",
    "print(used_cars_df.describe())\n",
    "\n",
    "# Summary statistics for weather data\n",
    "print(\"\\nSummary statistics for weather data:\")\n",
    "print(weather_df.describe())\n",
    "\n",
    "\n",
    "\n"
   ]
  },
  {
   "cell_type": "code",
   "execution_count": 3,
   "metadata": {},
   "outputs": [],
   "source": [
    "# Correlation analysis for numerical features in used cars data\n",
    "used_cars_numerical = used_cars_df.select_dtypes(include='number')\n",
    "print(\"\\nCorrelation matrix for used cars data:\")\n",
    "print(used_cars_numerical.corr())\n",
    "\n",
    "# Correlation analysis for numerical features in weather data\n",
    "weather_numerical = weather_df.select_dtypes(include='number')\n",
    "print(\"\\nCorrelation matrix for weather data:\")\n",
    "print(weather_numerical.corr())"
   ]
  },
  {
   "cell_type": "markdown",
   "metadata": {},
   "source": [
    "2. Visualization:\n",
    "  - Create various plots to visualize data:\n",
    "Histograms: To show the distribution of individual features.\n",
    "Scatter Plots: To show relationships between pairs of features.\n",
    "Box Plots: To identify outliers and understand the spread of data.\n",
    "Correlation Heatmaps: To visualize correlations between features.\n",
    "   - Use Matplotlib to create these visualizations and ensure all plots are well-labeled and easy to interpret\n"
   ]
  },
  {
   "cell_type": "markdown",
   "metadata": {},
   "source": [
    "______________________________________________________________________________________________________________________________________\n",
    " Visualization of Pakwheel used cars data\n",
    "______________________________________________________________________________________________________________________________________"
   ]
  },
  {
   "cell_type": "code",
   "execution_count": 4,
   "metadata": {},
   "outputs": [],
   "source": [
    "\n",
    "\n",
    "value_counts = used_cars_df['transmission'].value_counts()\n",
    "\n",
    "# Create a bar plot\n",
    "sns.barplot(x=value_counts.index, y=value_counts.values)\n",
    "\n",
    "# Set labels and limits\n",
    "plt.xlabel('Transmission')\n",
    "plt.ylabel('Frequency')\n",
    "plt.xlim([-0.5, len(value_counts) - 0.5])  # Adjust x limits to fit categories\n",
    "plt.ylim([100, 50000])  # Adjust y limits as needed\n",
    "\n",
    "# Show the plot\n",
    "plt.show()"
   ]
  },
  {
   "cell_type": "code",
   "execution_count": 5,
   "metadata": {},
   "outputs": [],
   "source": [
    "value_counts = used_cars_df['fuel_type'].value_counts()\n",
    "\n",
    "# Create a bar plot\n",
    "sns.barplot(x=value_counts.index, y=value_counts.values)\n",
    "\n",
    "# Set labels and limits\n",
    "plt.xlabel('Fuel Type')\n",
    "plt.ylabel('Frequency')\n",
    "plt.xlim([-0.5, len(value_counts) - 0.5])  # Adjust x limits to fit categories\n",
    "plt.ylim([100, 50000])  # Adjust y limits as needed\n",
    "\n",
    "# Show the plot\n",
    "plt.show()"
   ]
  },
  {
   "cell_type": "markdown",
   "metadata": {},
   "source": []
  },
  {
   "cell_type": "code",
   "execution_count": 6,
   "metadata": {},
   "outputs": [],
   "source": [
    "import seaborn as sns\n",
    "sns.relplot(data = used_cars_df, x='engine_cc', y='price', hue='assembly', style = 'fuel_type')\n",
    "plt.show()"
   ]
  },
  {
   "cell_type": "code",
   "execution_count": 7,
   "metadata": {},
   "outputs": [],
   "source": [
    "sns.relplot(data = used_cars_df, x='engine_cc', y='price', hue='assembly', col='transmission', style = 'fuel_type')\n",
    "plt.show()"
   ]
  },
  {
   "cell_type": "code",
   "execution_count": 8,
   "metadata": {},
   "outputs": [],
   "source": [
    "g=sns.catplot(data = used_cars_df,kind='box', x='assembly', y='engine_cc', hue='fuel_type', col='transmission')\n",
    "g.set(ylim=(0, 8000))\n",
    "plt.show()"
   ]
  },
  {
   "cell_type": "code",
   "execution_count": 9,
   "metadata": {},
   "outputs": [],
   "source": [
    "# sns.heatmap(used_cars_df.corr(), annot = True, fmt = '0.2f', linewidths=0.5,cmap='Blues')\n",
    "# plt.show()\n",
    "numeric_df = used_cars_df.select_dtypes(include=['number'])\n",
    "\n",
    "# Compute the correlation matrix\n",
    "corr_matrix = numeric_df.corr()\n",
    "\n",
    "# Plot the heatmap\n",
    "sns.heatmap(corr_matrix, annot=True, fmt='.2f', linewidths=0.5, cmap='Blues')\n",
    "plt.show()"
   ]
  },
  {
   "cell_type": "markdown",
   "metadata": {},
   "source": []
  },
  {
   "cell_type": "markdown",
   "metadata": {},
   "source": [
    "______________________________________________________________________________________________________________________________________\n",
    "  Visuaization of weather Classification Data\n",
    "______________________________________________________________________________________________________________________________________"
   ]
  },
  {
   "cell_type": "code",
   "execution_count": 10,
   "metadata": {},
   "outputs": [],
   "source": [
    "value_counts = weather_df['Season'].value_counts()\n",
    "\n",
    "# Create a bar plot\n",
    "sns.barplot(x=value_counts.index, y=value_counts.values)\n",
    "\n",
    "# Set labels and limits\n",
    "plt.xlabel('Season')\n",
    "plt.ylabel('Frequency')\n",
    "plt.xlim([-0.5, len(value_counts) - 0.5])  # Adjust x limits to fit categories\n",
    "plt.ylim([100, 6500])  # Adjust y limits as needed\n",
    "\n",
    "# Show the plot\n",
    "plt.show()"
   ]
  },
  {
   "cell_type": "code",
   "execution_count": 11,
   "metadata": {},
   "outputs": [],
   "source": [
    "value_counts = weather_df['Weather Type'].value_counts()\n",
    "\n",
    "# Create a bar plot\n",
    "sns.barplot(x=value_counts.index, y=value_counts.values)\n",
    "\n",
    "# Set labels and limits\n",
    "plt.xlabel('Weather Type')\n",
    "plt.ylabel('Frequency')\n",
    "plt.xlim([-0.5, len(value_counts) - 0.5])  # Adjust x limits to fit categories\n",
    "plt.ylim([100, 6500])  # Adjust y limits as needed\n",
    "\n",
    "# Show the plot\n",
    "plt.show()"
   ]
  },
  {
   "cell_type": "code",
   "execution_count": 12,
   "metadata": {},
   "outputs": [],
   "source": [
    "# import seaborn as sns\n",
    "# sns.relplot(data = weather_df, x='Temperature', y='Humidity', hue='Season', style = 'Weather Type')\n",
    "# plt.show()"
   ]
  },
  {
   "cell_type": "code",
   "execution_count": 13,
   "metadata": {},
   "outputs": [],
   "source": [
    "g=sns.catplot(data = weather_df,kind='box', x='Weather Type', y='Temperature', hue='Season')\n",
    "g.set(ylim=(0, 120))\n",
    "plt.show()"
   ]
  },
  {
   "cell_type": "code",
   "execution_count": 14,
   "metadata": {},
   "outputs": [],
   "source": [
    "numeric_df = weather_df.select_dtypes(include=['number'])\n",
    "\n",
    "# Compute the correlation matrix\n",
    "corr_matrix = numeric_df.corr()\n",
    "\n",
    "# Plot the heatmap\n",
    "sns.heatmap(corr_matrix, annot=True, fmt='.2f', linewidths=0.5, cmap='Blues')\n",
    "plt.show()"
   ]
  }
 ],
 "metadata": {
  "kernelspec": {
   "display_name": "Python 3",
   "language": "python",
   "name": "python3"
  },
  "language_info": {
   "codemirror_mode": {
    "name": "ipython",
    "version": 3
   },
   "file_extension": ".py",
   "mimetype": "text/x-python",
   "name": "python",
   "nbconvert_exporter": "python",
   "pygments_lexer": "ipython3",
   "version": "3.11.4"
  }
 },
 "nbformat": 4,
 "nbformat_minor": 2
}
