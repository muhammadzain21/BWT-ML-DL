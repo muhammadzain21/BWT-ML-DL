{
  "nbformat": 4,
  "nbformat_minor": 0,
  "metadata": {
    "colab": {
      "provenance": []
    },
    "kernelspec": {
      "name": "python3",
      "display_name": "Python 3"
    },
    "language_info": {
      "name": "python"
    }
  },
  "cells": [
    {
      "cell_type": "markdown",
      "source": [
        "**Week 2 Assignment**"
      ],
      "metadata": {
        "id": "rul1rQkEvcSc"
      }
    },
    {
      "cell_type": "markdown",
      "source": [
        "**Question 1**\n",
        "Write a code that will:\n",
        "1. Prompt the user to enter their name, age, email, and favorite number.\n",
        "2. Stores these inputs in a dictionary with appropriate keys.\n",
        "3. Validate the email format (contains \"@\" and \".\").\n",
        "4. Displays a message using these variables, formatted as: \"Hello [name], you are [age] years old, your email is [email], and your favorite number is [favorite number].\"\n"
      ],
      "metadata": {
        "id": "4JaM_Kg_vw6r"
      }
    },
    {
      "cell_type": "code",
      "execution_count": 6,
      "metadata": {
        "colab": {
          "base_uri": "https://localhost:8080/"
        },
        "id": "Rk8IJkVnoI-W",
        "outputId": "e89f8a5a-aa59-4e31-df63-fe718b02a208"
      },
      "outputs": [
        {
          "output_type": "stream",
          "name": "stdout",
          "text": [
            "Enter your name: MUHAMMAD ZAIN\n",
            "Enter your age: 21\n",
            "Enter your email: mzain\n",
            "Invalid email format. Please enter a valid email.\n",
            "Enter your email: mzainarif2002@gmail.com\n",
            "Enter your favorite number: 18\n",
            "Hello MUHAMMAD ZAIN, you are 21 years old, your email is mzainarif2002@gmail.com, and your favorite number is 18.\n"
          ]
        }
      ],
      "source": [
        "import re\n",
        "\n",
        "def get_user_input():\n",
        "\n",
        "    name = input(\"Enter your name: \")\n",
        "    age = input(\"Enter your age: \")\n",
        "    email = input(\"Enter your email: \")\n",
        "    while not validate_email(email):\n",
        "        print(\"Invalid email format. Please enter a valid email.\")\n",
        "        email = input(\"Enter your email: \")\n",
        "    favorite_number = input(\"Enter your favorite number: \")\n",
        "\n",
        "    return name, age, email, favorite_number\n",
        "\n",
        "def validate_email(email):\n",
        "    if re.match(r\"[^@]+@[^@]+\\.[^@]+\", email):\n",
        "        return True\n",
        "    return False\n",
        "\n",
        "def main():\n",
        "    name, age, email, favorite_number = get_user_input()\n",
        "\n",
        "    user_info = {\n",
        "        \"name\": name,\n",
        "        \"age\": age,\n",
        "        \"email\": email,\n",
        "        \"favorite_number\": favorite_number\n",
        "    }\n",
        "\n",
        "    message = f\"Hello {user_info['name']}, you are {user_info['age']} years old, your email is {user_info['email']}, and your favorite number is {user_info['favorite_number']}.\"\n",
        "    print(message)\n",
        "if __name__ == \"__main__\":\n",
        " main()\n"
      ]
    },
    {
      "cell_type": "markdown",
      "source": [
        "**Question 2**\n",
        "Write a code for a function `Is_even(number)` that will:\n",
        "1. Takes an integer as an input.\n",
        "2. Returns True if the number is even, otherwise False if the number is odd.\n",
        "3. Print whether the number was even or odd.\n"
      ],
      "metadata": {
        "id": "vrRtsbO4vW1c"
      }
    },
    {
      "cell_type": "code",
      "source": [
        "def Iseven(number):\n",
        "\n",
        "    if number % 2 == 0:\n",
        "        print(f\"{number} is even.\")\n",
        "        return True\n",
        "    else:\n",
        "        print(f\"{number} is odd.\")\n",
        "        return False\n",
        "\n",
        "num = int(input(\"Enter an integer: \"))\n",
        "result = Iseven(num)\n",
        "print(f\"Is the number even? {result}\")\n"
      ],
      "metadata": {
        "colab": {
          "base_uri": "https://localhost:8080/"
        },
        "id": "gTRN3EQvosFI",
        "outputId": "ea2f9085-82cc-409e-baf3-f6103f989f63"
      },
      "execution_count": 7,
      "outputs": [
        {
          "output_type": "stream",
          "name": "stdout",
          "text": [
            "Enter an integer: 12\n",
            "12 is even.\n",
            "Is the number even? True\n"
          ]
        }
      ]
    },
    {
      "cell_type": "markdown",
      "source": [
        "**Question 3**\n",
        "Write a function `convert_temperature(temp, scale)` that:\n",
        "1. Takes a temperature value and a scale (\"C\" for Celsius, \"F\" for Fahrenheit) as inputs.\n",
        "2. Converts the temperature to the other scale.\n",
        "3. Returns the converted temperature.\n",
        "4. Display the converted temperature.\n"
      ],
      "metadata": {
        "id": "4ouxk2RgwBbg"
      }
    },
    {
      "cell_type": "code",
      "source": [
        "def convert_temperature(temp, scale):\n",
        "    if scale == \"C\":\n",
        "        # Convert from Celsius to Fahrenheit\n",
        "        converted_temp = (temp * 9/5) + 32\n",
        "        print(f\"{temp}°C is equal to {converted_temp}°F.\")\n",
        "    elif scale == \"F\":\n",
        "        # Convert from Fahrenheit to Celsius\n",
        "        converted_temp = (temp - 32) * 5/9\n",
        "        print(f\"{temp}°F is equal to {converted_temp}°C.\")\n",
        "\n",
        "    return converted_temp\n",
        "\n",
        "temperature = float(input(\"Enter the temperature value: \"))\n",
        "scale = input(\"Enter the scale (C for Celsius, F for Fahrenheit): \").upper()\n",
        "\n",
        "while scale not in ['C', 'F']:\n",
        "    print(\"Invalid scale. Please use 'C' for Celsius or 'F' for Fahrenheit.\")\n",
        "    scale = input(\"Enter the scale (C for Celsius, F for Fahrenheit): \").upper()\n",
        "\n",
        "converted_temperature = convert_temperature(temperature, scale)\n"
      ],
      "metadata": {
        "colab": {
          "base_uri": "https://localhost:8080/"
        },
        "id": "hkHXcBA1qlTs",
        "outputId": "bab6a968-cdd9-42a2-a284-f2c9b9fee602"
      },
      "execution_count": 10,
      "outputs": [
        {
          "output_type": "stream",
          "name": "stdout",
          "text": [
            "Enter the temperature value: 100\n",
            "Enter the scale (C for Celsius, F for Fahrenheit): c\n",
            "100.0°C is equal to 212.0°F.\n"
          ]
        }
      ]
    },
    {
      "cell_type": "markdown",
      "source": [
        "**Question 4**\n",
        "Write a code that will:\n",
        "1. Contains a function `find_max_min(numbers_list)` that takes a list of numbers and returns both the maximum and minimum number in the list.\n",
        "2. Prompts the user to enter 5 numbers, stores them in a list, and then uses the `find_max_min` function to find and display the maximum and minimum number.\n"
      ],
      "metadata": {
        "id": "5nOLaMRWwG6m"
      }
    },
    {
      "cell_type": "code",
      "source": [
        "def find_max_min(numbers_list):\n",
        "\n",
        "    max_number = max(numbers_list)\n",
        "    min_number = min(numbers_list)\n",
        "    return max_number, min_number\n",
        "\n",
        "numbers = []\n",
        "for i in range(5):\n",
        "    number = float(input(f\"Enter number {i+1}: \"))\n",
        "    numbers.append(number)\n",
        "\n",
        "max_number, min_number = find_max_min(numbers)\n",
        "\n",
        "print(f\"The maximum number is: {max_number}\")\n",
        "print(f\"The minimum number is: {min_number}\")\n"
      ],
      "metadata": {
        "colab": {
          "base_uri": "https://localhost:8080/"
        },
        "id": "zn5OXPLyr8CD",
        "outputId": "b1a0010e-cfd4-4fd3-dbdd-d4c903591a86"
      },
      "execution_count": 11,
      "outputs": [
        {
          "output_type": "stream",
          "name": "stdout",
          "text": [
            "Enter number 1: 12\n",
            "Enter number 2: 1\n",
            "Enter number 3: 2\n",
            "Enter number 4: 0\n",
            "Enter number 5: 4\n",
            "The maximum number is: 12.0\n",
            "The minimum number is: 0.0\n"
          ]
        }
      ]
    },
    {
      "cell_type": "markdown",
      "source": [
        "**Question 5**\n",
        "Write a code that will:\n",
        "1. Prompt the user to enter details of 3 students: name, age, and grade.\n",
        "2. Stores these details in a list of tuples, with each tuple containing the name, age, and grade of a student.\n",
        "3. Convert this list of tuples into a dictionary with the student name as the key and the tuple (age, grade) as the value.\n",
        "4. Displays an appropriate output.\n"
      ],
      "metadata": {
        "id": "qSg0_7GRwPK3"
      }
    },
    {
      "cell_type": "code",
      "source": [
        "def get_student_details():\n",
        "\n",
        "    students = []\n",
        "    for i in range(3):\n",
        "        name = input(f\"Enter the name of student {i+1}: \")\n",
        "        age = int(input(f\"Enter the age of student {i+1}: \"))\n",
        "        grade = input(f\"Enter the grade of student {i+1}: \")\n",
        "        students.append((name, age, grade))\n",
        "    return students\n",
        "\n",
        "def convert_to_dictionary(students_list):\n",
        "\n",
        "    students_dict = {student[0]: (student[1], student[2]) for student in students_list}\n",
        "    return students_dict\n",
        "\n",
        "students_list = get_student_details()\n",
        "\n",
        "# Convert the list of tuples to a dictionary\n",
        "students_dict = convert_to_dictionary(students_list)\n",
        "\n",
        "# Display details\n",
        "print(\"\\nStudent details:\")\n",
        "for name, details in students_dict.items():\n",
        "    age, grade = details\n",
        "    print(f\"Name: {name}, Age: {age}, Grade: {grade}\")\n"
      ],
      "metadata": {
        "colab": {
          "base_uri": "https://localhost:8080/"
        },
        "id": "mOI0UycLsoIH",
        "outputId": "5d52a9d3-c351-41ce-f8c8-13d371599710"
      },
      "execution_count": 12,
      "outputs": [
        {
          "output_type": "stream",
          "name": "stdout",
          "text": [
            "Enter the name of student 1: zain\n",
            "Enter the age of student 1: 21\n",
            "Enter the grade of student 1: A\n",
            "Enter the name of student 2: ahmad\n",
            "Enter the age of student 2: 21\n",
            "Enter the grade of student 2: A-\n",
            "Enter the name of student 3: umair\n",
            "Enter the age of student 3: 21\n",
            "Enter the grade of student 3: A+\n",
            "\n",
            "Student details:\n",
            "Name: zain, Age: 21, Grade: A\n",
            "Name: ahmad, Age: 21, Grade: A-\n",
            "Name: umair, Age: 21, Grade: A+\n"
          ]
        }
      ]
    },
    {
      "cell_type": "markdown",
      "source": [
        "**Question 6**\n",
        "Write a code for function `update_inventory(inventory_dict, item, quantity)` that will:\n",
        "1. Take a dictionary where keys are item names and values are quantities, an item name, and a quantity to add or remove.\n",
        "2. Updates the inventory by adding or removing the specified quantity (use negative values for removal).\n",
        "3. Ensures that the quantity of any item does not go below zero.\n",
        "4. Returns the updated dictionary.\n",
        "\n",
        "Use this function to\n",
        "1. Initialize an inventory dictionary with at least 5 items.\n",
        "2. Prompt the user to update the inventory by adding or removing quantities of 3 items.\n",
        "3. Display the updated inventory.\n"
      ],
      "metadata": {
        "id": "BGWhQkRiwXPZ"
      }
    },
    {
      "cell_type": "code",
      "source": [
        "def update_inventory(inventory_dict, item, quantity):\n",
        "\n",
        "    if item in inventory_dict:\n",
        "        inventory_dict[item] = max(0, inventory_dict[item] + quantity)\n",
        "    else:\n",
        "        if quantity > 0:\n",
        "            inventory_dict[item] = quantity\n",
        "        else:\n",
        "            print(f\"Cannot remove {quantity} of {item} as it doesn't exist in inventory.\")\n",
        "\n",
        "    return inventory_dict\n",
        "\n",
        "inventory = {\n",
        "    \"apples\": 10,\n",
        "    \"bananas\": 20,\n",
        "    \"oranges\": 15,\n",
        "    \"pears\": 5,\n",
        "    \"grapes\": 8\n",
        "}\n",
        "\n",
        "for _ in range(3):\n",
        "    item_name = input(\"Enter the item name: \")\n",
        "    item_quantity = int(input(\"Enter the quantity to add or remove (use negative values for removal): \"))\n",
        "    inventory = update_inventory(inventory, item_name, item_quantity)\n",
        "\n",
        "# Display the updated inventory\n",
        "print(\"\\nUpdated inventory:\")\n",
        "for item, quantity in inventory.items():\n",
        "    print(f\"{item}: {quantity}\")\n",
        "\n"
      ],
      "metadata": {
        "colab": {
          "base_uri": "https://localhost:8080/"
        },
        "id": "0SwcgBXxtXyN",
        "outputId": "c6e7f323-df63-4502-de95-70735a2fb7f6"
      },
      "execution_count": 13,
      "outputs": [
        {
          "output_type": "stream",
          "name": "stdout",
          "text": [
            "Enter the item name: iphone\n",
            "Enter the quantity to add or remove (use negative values for removal): 3\n",
            "Enter the item name: laptop\n",
            "Enter the quantity to add or remove (use negative values for removal): 2\n",
            "Enter the item name: apple\n",
            "Enter the quantity to add or remove (use negative values for removal): -2\n",
            "Cannot remove -2 of apple as it doesn't exist in inventory.\n",
            "\n",
            "Updated inventory:\n",
            "apples: 10\n",
            "bananas: 20\n",
            "oranges: 15\n",
            "pears: 5\n",
            "grapes: 8\n",
            "iphone: 3\n",
            "laptop: 2\n"
          ]
        }
      ]
    }
  ]
}